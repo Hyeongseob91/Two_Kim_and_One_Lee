{
 "cells": [
  {
   "cell_type": "code",
   "execution_count": 1,
   "metadata": {},
   "outputs": [],
   "source": [
    "import pandas as pd \n",
    "from io import StringIO\n",
    "from selenium import webdriver\n",
    "from selenium.webdriver.support.ui import Select \n",
    "from selenium.webdriver.support.ui import WebDriverWait\n",
    "from selenium.webdriver.support import expected_conditions as EC\n",
    "from selenium.webdriver.common.by import By"
   ]
  },
  {
   "cell_type": "code",
   "execution_count": 5,
   "metadata": {},
   "outputs": [],
   "source": [
    "from selenium import webdriver\n",
    "\n",
    "# 1. URL 접속\n",
    "driver = webdriver.Chrome()\n",
    "\n",
    "url = \"https://www.melon.com/genre/song_list.htm?gnrCode=GN0500\"\n",
    "driver.get(url)                 # URL로 이동\n",
    "driver.maximize_window()        # 열린 크롬창 최대화\n",
    "\n",
    "driver.find_element_by_xpath('//a[@class=\"btn button_icons type03 song_info\"]').click()\n",
    "\n",
    "# 목록 : service_list_song  d_song_list \n",
    "# 아이템 : ellipsis rank01 \n",
    "# 링크 : btn button_icons type03 song_info\n",
    "\n"
   ]
  },
  {
   "cell_type": "code",
   "execution_count": 4,
   "metadata": {},
   "outputs": [],
   "source": [
    "# <a href=\"javascript:melon.link.goSongDetail('38427225');\" \n",
    "# title=\"어떻게든 이별 곡정보\" class=\"btn button_icons type03 song_info\">\n",
    "# <span class=\"none\">곡정보</span></a>"
   ]
  },
  {
   "cell_type": "markdown",
   "metadata": {},
   "source": []
  }
 ],
 "metadata": {
  "kernelspec": {
   "display_name": ".env311",
   "language": "python",
   "name": "python3"
  },
  "language_info": {
   "codemirror_mode": {
    "name": "ipython",
    "version": 3
   },
   "file_extension": ".py",
   "mimetype": "text/x-python",
   "name": "python",
   "nbconvert_exporter": "python",
   "pygments_lexer": "ipython3",
   "version": "3.11.9"
  }
 },
 "nbformat": 4,
 "nbformat_minor": 2
}
